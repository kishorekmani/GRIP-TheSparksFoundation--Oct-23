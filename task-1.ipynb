{
 "cells": [
  {
   "cell_type": "markdown",
   "metadata": {},
   "source": [
    "# **GRIP @The Sparks Foundation - October 2023**\n",
    "\n",
    "**Stream:** Data Science & Business Analytics\n",
    "\n",
    "**Task No:** 1\n",
    "\n",
    "**Task Name:** Prediction using Supervised ML\n",
    "\n",
    "**Task Description:** To predict the percentage of an student based on the no. of study hours.\n",
    "\n",
    "by **Kishore K | 27kishorekumar@gmail.com**"
   ]
  },
  {
   "cell_type": "code",
   "execution_count": null,
   "metadata": {},
   "outputs": [],
   "source": [
    "#importing necessary packages\n",
    "import pandas as pd\n",
    "import matplotlib.pyplot as plt\n",
    "from sklearn import linear_model\n",
    "import warnings\n",
    "warnings.filterwarnings(\"ignore\", category=DeprecationWarning)"
   ]
  },
  {
   "cell_type": "code",
   "execution_count": null,
   "metadata": {},
   "outputs": [],
   "source": [
    "#importing data to be processed and printing first 5 lines of data\n",
    "pathoffile = \"C:/Users/Hi/Documents/scores.csv\"\n",
    "data = pd.read_csv(pathoffile)\n",
    "data.head()"
   ]
  },
  {
   "cell_type": "code",
   "execution_count": null,
   "metadata": {},
   "outputs": [],
   "source": [
    "#plotting a graph (scatterplot) based on the data obtained \n",
    "plt.title(\"Hours studied vs Marks scored\")\n",
    "plt.xlabel(\"Number of study hours\")\n",
    "plt.ylabel(\"Score achieved\")\n",
    "plt.scatter(data.Hours, data.Scores, color=\"Red\", label=\"Data Distribution\")\n",
    "plt.legend([\"Data\"])"
   ]
  },
  {
   "cell_type": "code",
   "execution_count": null,
   "metadata": {},
   "outputs": [],
   "source": [
    "#creating a Linear Regression Model for the data\n",
    "LR = linear_model.LinearRegression()\n",
    "LR.fit(data[[\"Hours\"]], data.Scores)"
   ]
  },
  {
   "cell_type": "code",
   "execution_count": null,
   "metadata": {},
   "outputs": [],
   "source": [
    "#obtaining coefficients of linear regression model\n",
    "m = LR.coef_\n",
    "m"
   ]
  },
  {
   "cell_type": "code",
   "execution_count": null,
   "metadata": {},
   "outputs": [],
   "source": [
    "#obtaining intercept value of linear regression model\n",
    "b = LR.intercept_\n",
    "b"
   ]
  },
  {
   "cell_type": "code",
   "execution_count": null,
   "metadata": {},
   "outputs": [],
   "source": [
    "#calculating predicted score \n",
    "Predicted_Score = data[[\"Hours\"]] * m + b"
   ]
  },
  {
   "cell_type": "code",
   "execution_count": null,
   "metadata": {},
   "outputs": [],
   "source": [
    "#updating the graph with the linear regression line\n",
    "plt.title(\"Prediction of Hours studied vs Marks scored using Linear Regression\")\n",
    "plt.xlabel(\"Number of study hours\")\n",
    "plt.ylabel(\"Score achieved\")\n",
    "plt.scatter(data.Hours, data.Scores, color=\"Red\", label=\"Data Distribution\")\n",
    "plt.plot(data.Hours, Predicted_Score, color=\"Green\", label=\"Linear Regression Line\")\n",
    "plt.legend([\"Data Distribution\", \"Linear Regression Line\"])"
   ]
  },
  {
   "cell_type": "code",
   "execution_count": null,
   "metadata": {},
   "outputs": [],
   "source": [
    "#function to predict scores based on the input hour \n",
    "def LR_Prediction(hour):\n",
    "    score = m * hour + b\n",
    "    return score"
   ]
  },
  {
   "cell_type": "code",
   "execution_count": null,
   "metadata": {},
   "outputs": [],
   "source": [
    "#predicting score for 9.25 hours\n",
    "Prediction = LR_Prediction(9.25)\n",
    "print(\"Given, that the student studies 9.25 hrs/day, the prediction of Score achieved is %.4f\" %Prediction)"
   ]
  },
  {
   "cell_type": "code",
   "execution_count": null,
   "metadata": {},
   "outputs": [],
   "source": [
    "#to print mean absolute error \n",
    "from sklearn.metrics import mean_absolute_error\n",
    "print(\"Mean of Absolute Error: \", mean_absolute_error(data.Scores, Predicted_Score))"
   ]
  }
 ],
 "metadata": {
  "kernelspec": {
   "display_name": "Python 3",
   "language": "python",
   "name": "python3"
  },
  "language_info": {
   "codemirror_mode": {
    "name": "ipython",
    "version": 3
   },
   "file_extension": ".py",
   "mimetype": "text/x-python",
   "name": "python",
   "nbconvert_exporter": "python",
   "pygments_lexer": "ipython3",
   "version": "3.11.2"
  }
 },
 "nbformat": 4,
 "nbformat_minor": 2
}
